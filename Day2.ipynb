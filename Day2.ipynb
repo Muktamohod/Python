{
  "cells": [
    {
      "cell_type": "markdown",
      "metadata": {
        "id": "view-in-github",
        "colab_type": "text"
      },
      "source": [
        "<a href=\"https://colab.research.google.com/github/Muktamohod/Python/blob/main/Day2.ipynb\" target=\"_parent\"><img src=\"https://colab.research.google.com/assets/colab-badge.svg\" alt=\"Open In Colab\"/></a>"
      ]
    },
    {
      "cell_type": "code",
      "execution_count": null,
      "metadata": {
        "colab": {
          "base_uri": "https://localhost:8080/"
        },
        "id": "uOE3qZZdAFoX",
        "outputId": "37cda09b-8d5e-4d9f-e7d8-5de3c255c37d"
      },
      "outputs": [
        {
          "name": "stdout",
          "output_type": "stream",
          "text": [
            "Hii\n",
            "abcd\n",
            "efgh\n",
            "ijkl\n",
            "Welcome\n",
            "to\n",
            "python\n",
            "ramramram\n",
            "NagpurNagpurNagpur\n"
          ]
        }
      ],
      "source": [
        "print('Hii')\n",
        "print('abcd\\nefgh\\nijkl')\n",
        "print('Welcome\\nto\\npython')\n",
        "print('ram'*3)\n",
        "print(3*('Nag'+'pur'))"
      ]
    },
    {
      "cell_type": "code",
      "execution_count": null,
      "metadata": {
        "colab": {
          "base_uri": "https://localhost:8080/"
        },
        "id": "bFkF1ttVMxfv",
        "outputId": "80a20f4a-4b2b-4dd0-ae2e-7cabdbfacf73"
      },
      "outputs": [
        {
          "name": "stdout",
          "output_type": "stream",
          "text": [
            "value are 10 20 30\n",
            "10-20-30\n",
            "10*20*30\n",
            "10 20 30\n"
          ]
        }
      ],
      "source": [
        "a,b,c=10,20,30\n",
        "print('value are',a,b,c)\n",
        "print(a,b,c,sep='-')\n",
        "print(a,b,c,sep='*')\n",
        "print(a,b,c,sep=' ')"
      ]
    },
    {
      "cell_type": "code",
      "execution_count": null,
      "metadata": {
        "colab": {
          "base_uri": "https://localhost:8080/"
        },
        "id": "CwO50BWXN06W",
        "outputId": "a39ee397-2b38-42fe-a584-976a89e4d14f"
      },
      "outputs": [
        {
          "name": "stdout",
          "output_type": "stream",
          "text": [
            "Hello World\n",
            "India\n"
          ]
        }
      ],
      "source": [
        "print('Hello',end=' ')\n",
        "print('World')\n",
        "print('India')"
      ]
    },
    {
      "cell_type": "code",
      "execution_count": null,
      "metadata": {
        "colab": {
          "base_uri": "https://localhost:8080/"
        },
        "id": "TyVaa6tkOpe0",
        "outputId": "9a26f5b8-b32d-4901-8700-5631ab1c4f0e"
      },
      "outputs": [
        {
          "output_type": "stream",
          "name": "stdout",
          "text": [
            "3 4 5 6 7 8 9 10 11 12 13 14 15 16 17 18 19 0 | 1 | 2 | 3 | 4 | "
          ]
        }
      ],
      "source": [
        "for i in range(3,20):\n",
        "  print(i,end=' ')\n",
        "for i in range(5):\n",
        "  print(i,end=' | ')"
      ]
    },
    {
      "cell_type": "code",
      "execution_count": null,
      "metadata": {
        "colab": {
          "base_uri": "https://localhost:8080/"
        },
        "id": "FahrrAngQVZJ",
        "outputId": "1d82f3f3-f9a1-4c3e-d103-c9fc2fcd0303"
      },
      "outputs": [
        {
          "output_type": "stream",
          "name": "stdout",
          "text": [
            "python | java | c++ \n",
            "green-red-blue      \n"
          ]
        }
      ],
      "source": [
        "print('python','java','c++',sep=' | ',end=' \\n')\n",
        "print('green','red','blue',sep='-',end='      \\n' )"
      ]
    },
    {
      "cell_type": "code",
      "execution_count": null,
      "metadata": {
        "colab": {
          "background_save": true,
          "base_uri": "https://localhost:8080/",
          "height": 106
        },
        "id": "zxhwDvatRlFz",
        "outputId": "abe53079-4933-422d-da23-99c3ca6a914f"
      },
      "outputs": [
        {
          "name": "stdout",
          "output_type": "stream",
          "text": [
            "my name is ram I am 25 year old my salary is 58.8773\n"
          ]
        }
      ],
      "source": [
        "name='ram'\n",
        "age=25\n",
        "salary=58.87734\n",
        "print(\"my name is %s I am %d year old my salary is %.4f\"%(name,age,salary))"
      ]
    },
    {
      "cell_type": "code",
      "execution_count": null,
      "metadata": {
        "id": "SGZJSAAXSyv_",
        "colab": {
          "base_uri": "https://localhost:8080/"
        },
        "outputId": "b2932352-f550-4bc9-83ef-5820d3d2ae80"
      },
      "outputs": [
        {
          "output_type": "stream",
          "name": "stdout",
          "text": [
            "Name: {'Neha'}\n"
          ]
        }
      ],
      "source": [
        "name ='Neha'\n",
        "age=24\n",
        "print('Name:',{name})"
      ]
    },
    {
      "cell_type": "code",
      "execution_count": null,
      "metadata": {
        "id": "p-ElqwGyTvdC"
      },
      "outputs": [],
      "source": [
        "name=\"ramesh\"\n",
        "print(f\"hello,{name}\")\n",
        "name=\"vaibhav\"\n",
        "age=23\n",
        "print(f'my name is{name}and I am {age}year old.')"
      ]
    },
    {
      "cell_type": "code",
      "execution_count": null,
      "metadata": {
        "id": "WGdVdwoAUXBc"
      },
      "outputs": [],
      "source": [
        "m='good day'\n",
        "print(f'See Right{m:>10}')\n",
        "print(f'See Left{m:<10}')\n",
        "print(f'See Middle{m:^10}')"
      ]
    },
    {
      "cell_type": "code",
      "source": [
        "a=5\n",
        "b=2\n",
        "print(f\"{a}/{b}=\",a/b)\n",
        "print(f\"{a}//{b}=\",a//b)\n",
        "print(f\"{a}%{b}=\",a%b)\n",
        "print(f\"{a}**{b}=\",a**b)"
      ],
      "metadata": {
        "colab": {
          "base_uri": "https://localhost:8080/"
        },
        "id": "7Xs0INfUkOrW",
        "outputId": "da5d11b0-1dc9-4be3-b3eb-5fcf60598dad"
      },
      "execution_count": null,
      "outputs": [
        {
          "output_type": "stream",
          "name": "stdout",
          "text": [
            "5/2= 2.5\n",
            "5//2= 2\n",
            "5%2= 1\n",
            "5**2= 25\n"
          ]
        }
      ]
    },
    {
      "cell_type": "code",
      "source": [
        "a=10\n",
        "b=3\n",
        "print(\"Bitwise Operator\")\n",
        "print(\"a & b=\",a&b)\n",
        "print(\"a | b=\",a | b)\n",
        "print(\"a^b=\",a^b)\n",
        "print(\"~a=\",~a)\n",
        "print(\"~b=\",~b)"
      ],
      "metadata": {
        "colab": {
          "base_uri": "https://localhost:8080/"
        },
        "id": "tDIpwUWvmT41",
        "outputId": "8bd2668c-5f7f-483b-a4a2-5df1c6a38f1b"
      },
      "execution_count": null,
      "outputs": [
        {
          "output_type": "stream",
          "name": "stdout",
          "text": [
            "Bitwise Operator\n",
            "a & b= 2\n",
            "a | b= 11\n",
            "a^b= 9\n",
            "~a= -11\n",
            "~b= -4\n"
          ]
        }
      ]
    },
    {
      "cell_type": "code",
      "source": [
        "print(10<<1) #left shift 10*(2**1)=20  a*(2**n)\n",
        "print(2<<4)\n",
        "print(10>>1)  #Right shift  10//2=5  a//(2**n)\n",
        "print(10>>3)"
      ],
      "metadata": {
        "colab": {
          "base_uri": "https://localhost:8080/"
        },
        "id": "X2-rGw4EnalM",
        "outputId": "73373735-b81c-4362-9961-6f2287dbc40f"
      },
      "execution_count": null,
      "outputs": [
        {
          "output_type": "stream",
          "name": "stdout",
          "text": [
            "20\n",
            "32\n",
            "5\n",
            "1\n"
          ]
        }
      ]
    },
    {
      "cell_type": "code",
      "source": [
        "c=5\n",
        "c+=2\n",
        "print('c+=2',c)\n",
        "c*=2\n",
        "print(\"c*=2\",c)\n",
        "c-=2\n",
        "print(\"c-=2\",c)\n",
        "c/=2\n",
        "print(\"c/=2\",c)"
      ],
      "metadata": {
        "colab": {
          "base_uri": "https://localhost:8080/"
        },
        "id": "tKmV5TSloUG7",
        "outputId": "aff54bef-e3be-4d00-c939-f3473758448c"
      },
      "execution_count": null,
      "outputs": [
        {
          "output_type": "stream",
          "name": "stdout",
          "text": [
            "c+=2 7\n",
            "c*=2 14\n",
            "c-=2 12\n",
            "c/=2 6.0\n"
          ]
        }
      ]
    },
    {
      "cell_type": "code",
      "source": [
        "#Identity operator\n",
        "a=3\n",
        "b=4\n",
        "print(\"a is b\",a is b)\n",
        "print(\"a is not b\",a is not b)"
      ],
      "metadata": {
        "colab": {
          "base_uri": "https://localhost:8080/"
        },
        "id": "zVkUXMVpqLCL",
        "outputId": "dc338d18-dab0-431a-810a-124889f976b4"
      },
      "execution_count": null,
      "outputs": [
        {
          "output_type": "stream",
          "name": "stdout",
          "text": [
            "a is b False\n",
            "a is not b True\n"
          ]
        }
      ]
    },
    {
      "cell_type": "code",
      "source": [
        "l1=[1,2,3]\n",
        "l2=[1,2,3]\n",
        "print(l1 is l2)\n",
        "print('ML of L1 list',id(l1))\n",
        "print('ML of L2 list',id(l2))"
      ],
      "metadata": {
        "colab": {
          "base_uri": "https://localhost:8080/"
        },
        "id": "rQhKnOnSp-rR",
        "outputId": "6e5c96d1-eae1-446e-9e98-70852fba0ee3"
      },
      "execution_count": null,
      "outputs": [
        {
          "output_type": "stream",
          "name": "stdout",
          "text": [
            "False\n",
            "ML of L1 list 137339397405184\n",
            "ML of L2 list 137339408621376\n"
          ]
        }
      ]
    },
    {
      "cell_type": "code",
      "source": [
        "#Membership operator\n",
        "print(\"Membership operator\")\n",
        "Lst=[1,2,3,10]\n",
        "print(\"10 in list\",10 in Lst)\n",
        "print(\"5 in list\",15 in Lst)\n",
        "\n"
      ],
      "metadata": {
        "colab": {
          "base_uri": "https://localhost:8080/"
        },
        "id": "wgpL5KpVrjhd",
        "outputId": "6ec73d62-2bb9-433b-9e45-c04f59d17686"
      },
      "execution_count": null,
      "outputs": [
        {
          "output_type": "stream",
          "name": "stdout",
          "text": [
            "Membership operator\n",
            "10 in list True\n",
            "5 in list False\n"
          ]
        }
      ]
    },
    {
      "cell_type": "code",
      "source": [
        "Lst=[1,2,3,10]\n",
        "for x in Lst:\n",
        "  if x%2==0:\n",
        "    print(f'{x} is even no.')\n",
        "  else:\n",
        "    print(f'{x} is odd no.')"
      ],
      "metadata": {
        "colab": {
          "base_uri": "https://localhost:8080/"
        },
        "id": "OnJn_7_NtoMG",
        "outputId": "d0965a67-5885-4f79-f1d2-f9f466858aa9"
      },
      "execution_count": null,
      "outputs": [
        {
          "output_type": "stream",
          "name": "stdout",
          "text": [
            "1 is odd no.\n",
            "2 is even no.\n",
            "3 is odd no.\n",
            "10 is even no.\n"
          ]
        }
      ]
    },
    {
      "cell_type": "code",
      "source": [
        "#Various String Operations\n",
        "\n",
        "#print('entc'+0)\n",
        "\n",
        "print('entc'+'branch')\n",
        "\n",
        "print('entc'+' '+'branch')\n",
        "\n",
        "print('entc'*3)\n",
        "\n",
        "print('entc'*0) #empty\n",
        "\n",
        "#print('entc'* 'branch')\n",
        "\n",
        "print(14*'ram')\n",
        "\n",
        "#Conclusion:+-->Both Arguments Should be string\n",
        "#           *-->str and Int or Int and str\n",
        "\n",
        "\n",
        "\n"
      ],
      "metadata": {
        "colab": {
          "base_uri": "https://localhost:8080/"
        },
        "id": "5yQWnMvHum-e",
        "outputId": "a275ee21-8035-46ef-b352-060e8b889578"
      },
      "execution_count": null,
      "outputs": [
        {
          "output_type": "stream",
          "name": "stdout",
          "text": [
            "entcbranch\n",
            "entc branch\n",
            "entcentcentc\n",
            "\n",
            "ramramramramramramramramramramramramramram\n"
          ]
        }
      ]
    },
    {
      "cell_type": "code",
      "source": [
        "#ASCII Comparision\n",
        "\n",
        "print(ord('A'))\n",
        "print(ord('a'))\n",
        "print(ord('d'))\n",
        "print(ord('D'))\n",
        "print('a'>'A')\n",
        "print('abcd'>'abcD')"
      ],
      "metadata": {
        "colab": {
          "base_uri": "https://localhost:8080/"
        },
        "id": "qTQ-MKoQvkV1",
        "outputId": "b30e82f0-02fe-418c-97d7-25befe84cd64"
      },
      "execution_count": null,
      "outputs": [
        {
          "output_type": "stream",
          "name": "stdout",
          "text": [
            "65\n",
            "97\n",
            "100\n",
            "68\n",
            "True\n",
            "True\n"
          ]
        }
      ]
    },
    {
      "cell_type": "code",
      "source": [
        "#special camp\n",
        "print(10<20<30)\n",
        "print(10<20<30<40>50)\n",
        "print(10==10.0)\n",
        "print('Engg'==10)\n",
        "print(10=='10')\n"
      ],
      "metadata": {
        "colab": {
          "base_uri": "https://localhost:8080/"
        },
        "id": "esf6FSWEtS-k",
        "outputId": "4abb1771-2c5d-4a7b-8227-d6bf5de90844"
      },
      "execution_count": null,
      "outputs": [
        {
          "output_type": "stream",
          "name": "stdout",
          "text": [
            "True\n",
            "False\n",
            "True\n",
            "False\n",
            "False\n"
          ]
        }
      ]
    },
    {
      "cell_type": "code",
      "source": [
        "#Not oper\n",
        "print(not 10)\n",
        "print(not 0)\n",
        "print(not '')\n",
        "print(not ' ')\n",
        "print(not'Engg')"
      ],
      "metadata": {
        "colab": {
          "base_uri": "https://localhost:8080/"
        },
        "id": "9z7pOWO1tz4-",
        "outputId": "b9140ef7-abe0-4d0d-ce59-a01fdc357bf9"
      },
      "execution_count": null,
      "outputs": [
        {
          "output_type": "stream",
          "name": "stdout",
          "text": [
            "False\n",
            "True\n",
            "True\n",
            "False\n",
            "False\n"
          ]
        }
      ]
    },
    {
      "cell_type": "code",
      "source": [
        "#And oper\n",
        "#if x is true then result is y\n",
        "#if x is False then result is x\n",
        "print(10 and 20)\n",
        "print(0 and 20)\n",
        "print('entc' and 'branch')\n",
        "print('' and 'branch')"
      ],
      "metadata": {
        "colab": {
          "base_uri": "https://localhost:8080/"
        },
        "id": "mCASw1ShuxnE",
        "outputId": "899a43eb-7eb5-4331-d955-c3efdda3cc60"
      },
      "execution_count": null,
      "outputs": [
        {
          "output_type": "stream",
          "name": "stdout",
          "text": [
            "20\n",
            "0\n",
            "branch\n",
            "\n"
          ]
        }
      ]
    },
    {
      "cell_type": "code",
      "source": [
        "#OR oper\n",
        "#if x is true then result is x\n",
        "#if x is False then result is y\n",
        "print(10 or 20)\n",
        "print(0 or 20)\n",
        "print('entc' or 'branch')\n",
        "print('' or 'branch')"
      ],
      "metadata": {
        "colab": {
          "base_uri": "https://localhost:8080/"
        },
        "id": "lRI41AqNvx72",
        "outputId": "c40b47e7-f03c-4de1-bc63-e28d27bba8a8"
      },
      "execution_count": null,
      "outputs": [
        {
          "output_type": "stream",
          "name": "stdout",
          "text": [
            "10\n",
            "20\n",
            "entc\n",
            "branch\n"
          ]
        }
      ]
    },
    {
      "cell_type": "code",
      "source": [
        "#Appli\n",
        "usr=input('Enter user Name:')\n",
        "pwd=input('Enter password:')\n",
        "if usr=='rama'and pwd=='cse':\n",
        "  print(\"valid\")\n",
        "else:\n",
        "  print('invalid')"
      ],
      "metadata": {
        "colab": {
          "base_uri": "https://localhost:8080/"
        },
        "id": "VD1FASPpwWS4",
        "outputId": "ff6106c9-aebd-4f42-cb8b-2fc6e8d492a9"
      },
      "execution_count": null,
      "outputs": [
        {
          "output_type": "stream",
          "name": "stdout",
          "text": [
            "Enter user Name:pam\n",
            "Enter password:348\n",
            "invalid\n"
          ]
        }
      ]
    },
    {
      "cell_type": "code",
      "source": [
        "n1=int(input('Enter 1st no.'))\n",
        "n2=int(input('Enter 2nd no.'))\n",
        "max=n1 if n1>n2 else n2\n",
        "print(max)\n"
      ],
      "metadata": {
        "id": "t9ZpLKnmxK67"
      },
      "execution_count": null,
      "outputs": []
    },
    {
      "cell_type": "code",
      "source": [
        "a=10\n",
        "b=20\n",
        "c=30\n",
        "\n",
        "max=a if a>b and a>c else b if b>c else c\n",
        "print('Maximum no.',max)"
      ],
      "metadata": {
        "colab": {
          "base_uri": "https://localhost:8080/"
        },
        "id": "tdjKWYDAxrIZ",
        "outputId": "52324209-fe6f-4835-d1f5-342b61730bb6"
      },
      "execution_count": null,
      "outputs": [
        {
          "output_type": "stream",
          "name": "stdout",
          "text": [
            "Maximum no. 30\n"
          ]
        }
      ]
    },
    {
      "cell_type": "code",
      "source": [
        "import math\n",
        "print(math.sqrt(16))\n",
        "math.sin(math)"
      ],
      "metadata": {
        "colab": {
          "base_uri": "https://localhost:8080/"
        },
        "id": "FEFxeIUAznxx",
        "outputId": "13c07dc3-16bc-455a-de5c-16ffad10db5d"
      },
      "execution_count": null,
      "outputs": [
        {
          "output_type": "stream",
          "name": "stdout",
          "text": [
            "4.0\n"
          ]
        }
      ]
    },
    {
      "cell_type": "code",
      "source": [
        "import os\n",
        "print(os)"
      ],
      "metadata": {
        "colab": {
          "base_uri": "https://localhost:8080/"
        },
        "id": "0dwfgdLz0bt5",
        "outputId": "7b4fd6b1-701a-4d4e-fc8d-2a71756393b8"
      },
      "execution_count": null,
      "outputs": [
        {
          "output_type": "stream",
          "name": "stdout",
          "text": [
            "<module 'os' (frozen)>\n"
          ]
        }
      ]
    },
    {
      "cell_type": "code",
      "source": [
        "print('math.floor(3.7):',math.floor(3.7))\n",
        "print('math.ceil(3.7):',math.ceil(3.7))\n",
        "print('math.trunc(3.7):',math.trunc(3.7))\n",
        "\n",
        "print('math.floor(-3.7):',math.floor(-3.7))\n",
        "print('math.ceil(-3.7):',math.ceil(-3.7))\n",
        "print('math.trunc(-3.7):',math.trunc(-3.7))\n"
      ],
      "metadata": {
        "colab": {
          "base_uri": "https://localhost:8080/"
        },
        "id": "nwzZOs0u1PoA",
        "outputId": "104c2c2e-6f23-405e-fbe6-aaf42a2a0e41"
      },
      "execution_count": null,
      "outputs": [
        {
          "output_type": "stream",
          "name": "stdout",
          "text": [
            "math.floor(3.7): 3\n",
            "math.ceil(3.7): 4\n",
            "math.trunc(3.7): 3\n",
            "math.floor(-3.7): -4\n",
            "math.ceil(-3.7): -3\n",
            "math.trunc(-3.7): -3\n"
          ]
        }
      ]
    },
    {
      "cell_type": "code",
      "source": [
        "!pip install num2words\n",
        "\n",
        "\n",
        "from num2words import num2words\n",
        "num=int(input(\"Enter a num:\"))\n",
        "words= num2words(num,lang='en_IN')\n",
        "print(words.title())"
      ],
      "metadata": {
        "colab": {
          "base_uri": "https://localhost:8080/"
        },
        "id": "xQ31mhhy2LNt",
        "outputId": "960a5944-787c-4590-f07b-3545fae24138"
      },
      "execution_count": null,
      "outputs": [
        {
          "output_type": "stream",
          "name": "stdout",
          "text": [
            "Requirement already satisfied: num2words in /usr/local/lib/python3.11/dist-packages (0.5.14)\n",
            "Requirement already satisfied: docopt>=0.6.2 in /usr/local/lib/python3.11/dist-packages (from num2words) (0.6.2)\n",
            "Enter a num:56\n",
            "Fifty-Six\n"
          ]
        }
      ]
    },
    {
      "cell_type": "code",
      "source": [
        "!pip install numpy"
      ],
      "metadata": {
        "colab": {
          "base_uri": "https://localhost:8080/"
        },
        "id": "fMcm2fCf8OoO",
        "outputId": "b577d53d-9a12-436d-9edf-bfe71a5aa8df"
      },
      "execution_count": null,
      "outputs": [
        {
          "output_type": "stream",
          "name": "stdout",
          "text": [
            "Requirement already satisfied: numpy in /usr/local/lib/python3.11/dist-packages (2.0.2)\n"
          ]
        }
      ]
    },
    {
      "cell_type": "code",
      "source": [
        "#wap to check no.is bet 1 to 99\n",
        "#marks--> grade A,B,C\n",
        "mark=78\n",
        "mark=int(input(\"Enter marks:\"))\n",
        "if mark>=90:\n",
        "  print(\"Grade A\")\n",
        "elif mark>=75:\n",
        "  print(\"Grade B\")\n",
        "elif mark>=60:\n",
        "  print(\"Grade c\")\n",
        "else:\n",
        "  print(\"Grade F\")\n",
        "\n",
        "\n"
      ],
      "metadata": {
        "colab": {
          "base_uri": "https://localhost:8080/"
        },
        "id": "k4GHzd725Cl-",
        "outputId": "ba043dac-f122-4ce2-de25-1891615427e3"
      },
      "execution_count": null,
      "outputs": [
        {
          "output_type": "stream",
          "name": "stdout",
          "text": [
            "Enter marks:56\n",
            "Grade F\n"
          ]
        }
      ]
    },
    {
      "cell_type": "code",
      "source": [
        "num=int(input(\"Enter no.:\"))\n",
        "if num%2==0:\n",
        "  print(f\"Number {num} is even\")\n",
        "else:\n",
        "  print(f\"Number {num} is odd\")"
      ],
      "metadata": {
        "colab": {
          "base_uri": "https://localhost:8080/"
        },
        "id": "PLaxrWc38s6b",
        "outputId": "6b540905-9ca2-4b4a-911c-f34a9c581d42"
      },
      "execution_count": null,
      "outputs": [
        {
          "output_type": "stream",
          "name": "stdout",
          "text": [
            "Enter no.:7\n",
            "Number 7 is odd\n"
          ]
        }
      ]
    }
  ],
  "metadata": {
    "colab": {
      "provenance": [],
      "authorship_tag": "ABX9TyPu0jSXg5UOiuA0KOfCNPn5",
      "include_colab_link": true
    },
    "kernelspec": {
      "display_name": "Python 3",
      "name": "python3"
    },
    "language_info": {
      "name": "python"
    }
  },
  "nbformat": 4,
  "nbformat_minor": 0
}