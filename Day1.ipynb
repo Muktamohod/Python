{
  "nbformat": 4,
  "nbformat_minor": 0,
  "metadata": {
    "colab": {
      "provenance": [],
      "authorship_tag": "ABX9TyOc5+d8XjP0O8tE9vUykF/g",
      "include_colab_link": true
    },
    "kernelspec": {
      "name": "python3",
      "display_name": "Python 3"
    },
    "language_info": {
      "name": "python"
    }
  },
  "cells": [
    {
      "cell_type": "markdown",
      "metadata": {
        "id": "view-in-github",
        "colab_type": "text"
      },
      "source": [
        "<a href=\"https://colab.research.google.com/github/Muktamohod/Python/blob/main/Day1.ipynb\" target=\"_parent\"><img src=\"https://colab.research.google.com/assets/colab-badge.svg\" alt=\"Open In Colab\"/></a>"
      ]
    },
    {
      "cell_type": "code",
      "execution_count": null,
      "metadata": {
        "id": "6dQCPD7a1Z50",
        "colab": {
          "base_uri": "https://localhost:8080/"
        },
        "outputId": "2e805a04-bb36-449c-e068-f4ec0770ec42"
      },
      "outputs": [
        {
          "output_type": "stream",
          "name": "stdout",
          "text": [
            "10758024\n",
            "10758024\n",
            "10758024\n",
            "10758344\n"
          ]
        }
      ],
      "source": [
        "a=10\n",
        "print(id(a))\n",
        "\n",
        "b=10\n",
        "print(id(b))\n",
        "\n",
        "c=10\n",
        "print(id(c))\n",
        "\n",
        "a=20\n",
        "print(id(a))"
      ]
    },
    {
      "cell_type": "code",
      "source": [
        "x=True #1\n",
        "y=False #0\n",
        "print(x+y)\n",
        "\n",
        "print(True+True)\n",
        "\n",
        "print(True+Truej)\n",
        "print(True+True(j))"
      ],
      "metadata": {
        "colab": {
          "base_uri": "https://localhost:8080/",
          "height": 263
        },
        "collapsed": true,
        "id": "lg0iOOrM5h8X",
        "outputId": "d4b2b43d-b7b8-4f50-ca26-7be8cffed46b"
      },
      "execution_count": null,
      "outputs": [
        {
          "output_type": "stream",
          "name": "stdout",
          "text": [
            "1\n",
            "2\n"
          ]
        },
        {
          "output_type": "stream",
          "name": "stderr",
          "text": [
            "<>:8: SyntaxWarning: 'bool' object is not callable; perhaps you missed a comma?\n",
            "<>:8: SyntaxWarning: 'bool' object is not callable; perhaps you missed a comma?\n"
          ]
        },
        {
          "output_type": "error",
          "ename": "NameError",
          "evalue": "name 'Truej' is not defined",
          "traceback": [
            "\u001b[0;31m---------------------------------------------------------------------------\u001b[0m",
            "\u001b[0;31mNameError\u001b[0m                                 Traceback (most recent call last)",
            "\u001b[0;32m/tmp/ipython-input-7-639753616.py\u001b[0m in \u001b[0;36m<cell line: 0>\u001b[0;34m()\u001b[0m\n\u001b[1;32m      5\u001b[0m \u001b[0mprint\u001b[0m\u001b[0;34m(\u001b[0m\u001b[0;32mTrue\u001b[0m\u001b[0;34m+\u001b[0m\u001b[0;32mTrue\u001b[0m\u001b[0;34m)\u001b[0m\u001b[0;34m\u001b[0m\u001b[0;34m\u001b[0m\u001b[0m\n\u001b[1;32m      6\u001b[0m \u001b[0;34m\u001b[0m\u001b[0m\n\u001b[0;32m----> 7\u001b[0;31m \u001b[0mprint\u001b[0m\u001b[0;34m(\u001b[0m\u001b[0;32mTrue\u001b[0m\u001b[0;34m+\u001b[0m\u001b[0mTruej\u001b[0m\u001b[0;34m)\u001b[0m\u001b[0;34m\u001b[0m\u001b[0;34m\u001b[0m\u001b[0m\n\u001b[0m\u001b[1;32m      8\u001b[0m \u001b[0mprint\u001b[0m\u001b[0;34m(\u001b[0m\u001b[0;32mTrue\u001b[0m\u001b[0;34m+\u001b[0m\u001b[0;32mTrue\u001b[0m\u001b[0;34m(\u001b[0m\u001b[0mj\u001b[0m\u001b[0;34m)\u001b[0m\u001b[0;34m)\u001b[0m\u001b[0;34m\u001b[0m\u001b[0;34m\u001b[0m\u001b[0m\n",
            "\u001b[0;31mNameError\u001b[0m: name 'Truej' is not defined"
          ]
        }
      ]
    },
    {
      "cell_type": "code",
      "source": [
        "s=\"\"\n",
        "print(type(s))\n",
        "\n",
        "s='True'\n",
        "print(type(s))\n",
        "\n",
        "s3='''Sipna\n",
        "college of\n",
        "engg & Tech'''\n",
        "print(s3)"
      ],
      "metadata": {
        "colab": {
          "base_uri": "https://localhost:8080/"
        },
        "id": "wmjyt6rO63kp",
        "outputId": "ef2a9fcf-d1c1-4f5d-c300-0b6803ddf901"
      },
      "execution_count": null,
      "outputs": [
        {
          "output_type": "stream",
          "name": "stdout",
          "text": [
            "<class 'str'>\n",
            "<class 'str'>\n",
            "Sipna \n",
            "college of\n",
            "engg & Tech\n"
          ]
        }
      ]
    },
    {
      "cell_type": "code",
      "source": [
        "s=\"my'name'is mukta\"\n",
        "print(s)\n",
        "\n",
        "s= 'It\\'s called \"python\" lang'\n",
        "print(s)\n",
        "\n",
        "s=\"the book is titled \\'Learning Python\\'\"\n",
        "print(s)\n"
      ],
      "metadata": {
        "colab": {
          "base_uri": "https://localhost:8080/"
        },
        "id": "Lljc-_U08jAP",
        "outputId": "9e8428b3-fadc-413f-f5cb-0d3ee40fbc55"
      },
      "execution_count": null,
      "outputs": [
        {
          "output_type": "stream",
          "name": "stdout",
          "text": [
            "my'name'is mukta\n",
            "It's called \"python\" lang\n",
            "the book is titled 'Learning Python'\n"
          ]
        }
      ]
    },
    {
      "cell_type": "code",
      "source": [
        "name='Ram'\n",
        "print(\"my name is\",name)\n",
        "print(f'my name is {name}') #f= formating\n",
        "\n",
        "x=10\n",
        "y=20\n",
        "print(x+y)\n",
        "print(\"sum is\",x+y)\n",
        "print(f'Sum of {x}+{y}={x+y}')"
      ],
      "metadata": {
        "colab": {
          "base_uri": "https://localhost:8080/"
        },
        "id": "s6MXK-Ss9y7p",
        "outputId": "b7a6c011-1671-4c2c-e112-5f01813647b2"
      },
      "execution_count": null,
      "outputs": [
        {
          "output_type": "stream",
          "name": "stdout",
          "text": [
            "my name is Ram\n",
            "my name is Ram\n",
            "30\n",
            "sum is 30\n",
            "Sum of 10+20=30\n"
          ]
        }
      ]
    },
    {
      "cell_type": "code",
      "source": [
        "#Indexing\n",
        "s1='engineering'\n",
        "print(s1[5])\n",
        "print(s1[1-5])\n",
        "\n",
        "#length\n",
        "s2='amravati'\n",
        "print(len(s2))\n",
        "s2[0]='A' #string is immutable"
      ],
      "metadata": {
        "colab": {
          "base_uri": "https://localhost:8080/",
          "height": 228
        },
        "collapsed": true,
        "id": "Wy_GcbVB_lA6",
        "outputId": "887ad202-7321-46cc-9a60-5ca677dd481f"
      },
      "execution_count": null,
      "outputs": [
        {
          "output_type": "stream",
          "name": "stdout",
          "text": [
            "e\n",
            "r\n",
            "8\n"
          ]
        },
        {
          "output_type": "error",
          "ename": "TypeError",
          "evalue": "'str' object does not support item assignment",
          "traceback": [
            "\u001b[0;31m---------------------------------------------------------------------------\u001b[0m",
            "\u001b[0;31mTypeError\u001b[0m                                 Traceback (most recent call last)",
            "\u001b[0;32m/tmp/ipython-input-30-2494173270.py\u001b[0m in \u001b[0;36m<cell line: 0>\u001b[0;34m()\u001b[0m\n\u001b[1;32m      7\u001b[0m \u001b[0ms2\u001b[0m\u001b[0;34m=\u001b[0m\u001b[0;34m'amravati'\u001b[0m\u001b[0;34m\u001b[0m\u001b[0;34m\u001b[0m\u001b[0m\n\u001b[1;32m      8\u001b[0m \u001b[0mprint\u001b[0m\u001b[0;34m(\u001b[0m\u001b[0mlen\u001b[0m\u001b[0;34m(\u001b[0m\u001b[0ms2\u001b[0m\u001b[0;34m)\u001b[0m\u001b[0;34m)\u001b[0m\u001b[0;34m\u001b[0m\u001b[0;34m\u001b[0m\u001b[0m\n\u001b[0;32m----> 9\u001b[0;31m \u001b[0ms2\u001b[0m\u001b[0;34m[\u001b[0m\u001b[0;36m0\u001b[0m\u001b[0;34m]\u001b[0m\u001b[0;34m=\u001b[0m\u001b[0;34m'A'\u001b[0m \u001b[0;31m#string is immutable\u001b[0m\u001b[0;34m\u001b[0m\u001b[0;34m\u001b[0m\u001b[0m\n\u001b[0m",
            "\u001b[0;31mTypeError\u001b[0m: 'str' object does not support item assignment"
          ]
        }
      ]
    },
    {
      "cell_type": "code",
      "source": [
        "#type casting\n",
        "\n",
        "#1.Int()\n",
        "print(int(10.24))\n",
        "print(int(\"24\"))\n",
        "#print(int(\"28.4\")) string+float\n",
        "\n",
        "#float()\n",
        "print(float(10))\n",
        "print(float('52'))\n",
        "\n",
        "#complex()\n",
        "print(complex(2))\n",
        "print(complex(2,3))\n",
        "print(complex(\"2+5j\"))\n",
        "\n",
        "#Bool()\n",
        "print(bool(0))\n",
        "print(bool(1))\n",
        "print(bool(\"\"))\n",
        "print(bool(\"Hello\"))\n",
        "print(bool([]))\n",
        "print(bool([1,2,3]))\n",
        "#print(bool(amravati))\n",
        "\n",
        "#str()\n",
        "print(str(5))\n",
        "\n",
        "#print(int(\"27.3\"))\n"
      ],
      "metadata": {
        "colab": {
          "base_uri": "https://localhost:8080/"
        },
        "id": "3ydE6s-lEvAv",
        "outputId": "cf9af446-80ff-42df-e822-6c5002de5e3e"
      },
      "execution_count": null,
      "outputs": [
        {
          "output_type": "stream",
          "name": "stdout",
          "text": [
            "10\n",
            "24\n",
            "10.0\n",
            "52.0\n",
            "(2+0j)\n",
            "(2+3j)\n",
            "(2+5j)\n",
            "False\n",
            "True\n",
            "False\n",
            "True\n",
            "False\n",
            "True\n",
            "5\n"
          ]
        }
      ]
    },
    {
      "cell_type": "code",
      "source": [
        "x=int(input('Enter 1st no.'))\n",
        "y=float(input('Enter 2st no.'))\n",
        "\n",
        "print(x+y)\n",
        "\n",
        "eid=int(input(\"Enter Emp id:\"))\n",
        "ename=input(\"Enter Emp name:\")\n",
        "eadd=input(\"Enter Emp address:\")\n",
        "esal=int(input(\"Enter Emp salary:\"))\n",
        "\n",
        "print(\"Emp ID:\",eid)\n",
        "print(\"Emp name:\",ename)\n",
        "print(\"Emp add:\",eadd)\n",
        "print(\"Emp salary:\",esal)\n"
      ],
      "metadata": {
        "colab": {
          "base_uri": "https://localhost:8080/"
        },
        "id": "wA_NMtjxJQyN",
        "outputId": "b6e64bef-9c49-4c38-c21b-fcab7725fc2e"
      },
      "execution_count": null,
      "outputs": [
        {
          "output_type": "stream",
          "name": "stdout",
          "text": [
            "Enter 1st no.2\n",
            "Enter 2st no.4\n",
            "6.0\n",
            "Enter Emp id:34\n",
            "Enter Emp name:dfdg\n",
            "Enter Emp address:fgd\n",
            "Enter Emp salary:7\n",
            "Emp ID: 34\n",
            "Emp name: dfdg\n",
            "Emp add: fgd\n",
            "Emp salary: 7\n"
          ]
        }
      ]
    },
    {
      "cell_type": "code",
      "source": [
        "l=[int(x) for x in input('Enter 3 values:').split()]\n",
        "print(l)\n",
        "sum=0\n",
        "for y in l:\n",
        "  sum=sum+y\n",
        "\n",
        "print(sum)\n",
        "\n"
      ],
      "metadata": {
        "colab": {
          "base_uri": "https://localhost:8080/"
        },
        "id": "1l1Oz57eDOD2",
        "outputId": "c624b83d-6540-469b-d5e0-84dc98b28e23"
      },
      "execution_count": null,
      "outputs": [
        {
          "output_type": "stream",
          "name": "stdout",
          "text": [
            "Enter 3 values:2 3 4 \n",
            "[2, 3, 4]\n",
            "9\n"
          ]
        }
      ]
    },
    {
      "cell_type": "code",
      "source": [
        "import sys\n",
        "argv=['test.py','2','3','4']\n",
        "sum=int(argv[1])+int(argv[2])+int(argv[3])\n",
        "print(sum)"
      ],
      "metadata": {
        "colab": {
          "base_uri": "https://localhost:8080/"
        },
        "id": "M0TMdQdRIgPy",
        "outputId": "bac375eb-af8f-4683-b94e-c62e9732460c"
      },
      "execution_count": null,
      "outputs": [
        {
          "output_type": "stream",
          "name": "stdout",
          "text": [
            "9\n"
          ]
        }
      ]
    }
  ]
}