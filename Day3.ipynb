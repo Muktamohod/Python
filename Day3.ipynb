{
  "nbformat": 4,
  "nbformat_minor": 0,
  "metadata": {
    "colab": {
      "provenance": [],
      "authorship_tag": "ABX9TyPg9GeECycfngbjx+fklKbM",
      "include_colab_link": true
    },
    "kernelspec": {
      "name": "python3",
      "display_name": "Python 3"
    },
    "language_info": {
      "name": "python"
    }
  },
  "cells": [
    {
      "cell_type": "markdown",
      "metadata": {
        "id": "view-in-github",
        "colab_type": "text"
      },
      "source": [
        "<a href=\"https://colab.research.google.com/github/Muktamohod/Python/blob/main/Day3.ipynb\" target=\"_parent\"><img src=\"https://colab.research.google.com/assets/colab-badge.svg\" alt=\"Open In Colab\"/></a>"
      ]
    },
    {
      "cell_type": "code",
      "execution_count": null,
      "metadata": {
        "id": "HG1ifPG4IKhj",
        "colab": {
          "base_uri": "https://localhost:8080/"
        },
        "outputId": "951760e1-4037-44ca-987b-e0c95bca861a"
      },
      "outputs": [
        {
          "output_type": "stream",
          "name": "stdout",
          "text": [
            "[2, 3, 4, 5, 6, 7, 8, 9, 10]\n",
            "[1, 3, 5, 7, 9]\n",
            "[20, 19, 18, 17, 16, 15, 14, 13, 12, 11, 10, 9, 8, 7, 6, 5, 4, 3, 2]\n"
          ]
        }
      ],
      "source": [
        "print(list(range(2,11,1)))\n",
        "print(list(range(1,10,2)))\n",
        "print(list(range(20,1,-1)))"
      ]
    },
    {
      "cell_type": "code",
      "source": [
        "for i in range(1,6):\n",
        "    print(i,end=' ')"
      ],
      "metadata": {
        "colab": {
          "base_uri": "https://localhost:8080/"
        },
        "id": "ocTOlGNUMs-m",
        "outputId": "dd4cf489-0f56-4d85-a86e-bb6c39e01cdc"
      },
      "execution_count": null,
      "outputs": [
        {
          "output_type": "stream",
          "name": "stdout",
          "text": [
            "1 2 3 4 5 "
          ]
        }
      ]
    },
    {
      "cell_type": "code",
      "source": [
        "#no. of car\n",
        "s=\"Hemant\"\n",
        "i=0\n",
        "for x in s:\n",
        "  i=i+1\n",
        "print(i)"
      ],
      "metadata": {
        "colab": {
          "base_uri": "https://localhost:8080/"
        },
        "id": "XGur2wApNFfs",
        "outputId": "da9882bb-7c00-4527-abba-5eff58cf7369"
      },
      "execution_count": null,
      "outputs": [
        {
          "output_type": "stream",
          "name": "stdout",
          "text": [
            "6\n"
          ]
        }
      ]
    },
    {
      "cell_type": "code",
      "source": [
        "i=1\n",
        "while i<=5:\n",
        "  print(i, end=' ')\n",
        "  i+=1"
      ],
      "metadata": {
        "colab": {
          "base_uri": "https://localhost:8080/"
        },
        "id": "bNLcvtdlYw8W",
        "outputId": "aedd509c-d3e7-48e8-e67e-1964cca2cf42"
      },
      "execution_count": null,
      "outputs": [
        {
          "output_type": "stream",
          "name": "stdout",
          "text": [
            "1 2 3 4 5 "
          ]
        }
      ]
    },
    {
      "cell_type": "code",
      "source": [
        "for i in range(1,6):\n",
        "  if i==3:\n",
        "    break\n",
        "  print(i)\n",
        "else:\n",
        "  print(\"for loop is executed successfully\")\n"
      ],
      "metadata": {
        "colab": {
          "base_uri": "https://localhost:8080/"
        },
        "id": "wX6WOpUAOSA8",
        "outputId": "da7de2df-712f-4bda-9deb-dadd6aeff67a"
      },
      "execution_count": null,
      "outputs": [
        {
          "output_type": "stream",
          "name": "stdout",
          "text": [
            "1\n",
            "2\n"
          ]
        }
      ]
    },
    {
      "cell_type": "code",
      "source": [
        "for i in range(1,6):\n",
        "  if i==3:\n",
        "    continue\n",
        "  print(i)\n",
        "else:\n",
        "  print(\"for loop is executed successfully\")"
      ],
      "metadata": {
        "colab": {
          "base_uri": "https://localhost:8080/"
        },
        "id": "rdUmKVHjZXHR",
        "outputId": "b28cf4bd-f01d-4776-a565-20ad887ba88e"
      },
      "execution_count": null,
      "outputs": [
        {
          "output_type": "stream",
          "name": "stdout",
          "text": [
            "1\n",
            "2\n",
            "4\n",
            "5\n",
            "for loop is executed successfully\n"
          ]
        }
      ]
    },
    {
      "cell_type": "code",
      "source": [
        "for i in range(1,30):\n",
        "  if i%2==0:\n",
        "     print(i,end=' ')"
      ],
      "metadata": {
        "colab": {
          "base_uri": "https://localhost:8080/"
        },
        "id": "MJniBcf8Zhn-",
        "outputId": "480ef137-1c75-48ff-c9bf-b5bebde6d582"
      },
      "execution_count": null,
      "outputs": [
        {
          "output_type": "stream",
          "name": "stdout",
          "text": [
            "2 4 6 8 10 12 14 16 18 20 22 24 26 28 "
          ]
        }
      ]
    },
    {
      "cell_type": "code",
      "source": [
        "num=input(\"Enter the no.\")\n",
        "print(num)\n",
        "reverse=num[::-1]\n",
        "print(reverse)"
      ],
      "metadata": {
        "colab": {
          "base_uri": "https://localhost:8080/"
        },
        "id": "WrC28HNrdDCk",
        "outputId": "0f6f5642-5fc7-4ad1-fc7a-6763b4d049da"
      },
      "execution_count": null,
      "outputs": [
        {
          "output_type": "stream",
          "name": "stdout",
          "text": [
            "Enter the no.1234\n",
            "1234\n",
            "4321\n"
          ]
        }
      ]
    },
    {
      "cell_type": "code",
      "source": [
        "n=5\n",
        "for i in range(1,5):\n",
        "  for j in range(1,5):\n",
        "    print(\"*\",end=' ')\n",
        "  print()"
      ],
      "metadata": {
        "colab": {
          "base_uri": "https://localhost:8080/"
        },
        "id": "PIfMtA3ae8zM",
        "outputId": "d5360ff7-9adf-47df-9dd0-164376f5fe20"
      },
      "execution_count": null,
      "outputs": [
        {
          "output_type": "stream",
          "name": "stdout",
          "text": [
            "* * * * \n",
            "* * * * \n",
            "* * * * \n",
            "* * * * \n"
          ]
        }
      ]
    },
    {
      "cell_type": "code",
      "source": [
        "s=\"python\"\n",
        "print(s[1:4])"
      ],
      "metadata": {
        "colab": {
          "base_uri": "https://localhost:8080/"
        },
        "id": "E6wd4JXKvPab",
        "outputId": "326ff634-1e7f-4699-97ba-d8383032dae1"
      },
      "execution_count": null,
      "outputs": [
        {
          "output_type": "stream",
          "name": "stdout",
          "text": [
            "yth\n"
          ]
        }
      ]
    },
    {
      "cell_type": "code",
      "source": [
        "s=\"Learning python is very Easy, python is favourite,Python\"\n",
        "print(\"using find:\",s.find(\"python\"))\n",
        "\n",
        "s=\"Learning python is very Easy, python is favourite,Python\"\n",
        "print(\"using rfind:\",s.rfind(\"python\"))"
      ],
      "metadata": {
        "colab": {
          "base_uri": "https://localhost:8080/"
        },
        "id": "BMmb1kq-2Bcj",
        "outputId": "927ff25e-bc25-48be-c113-362c0c1cb9e7"
      },
      "execution_count": null,
      "outputs": [
        {
          "output_type": "stream",
          "name": "stdout",
          "text": [
            "using find: 9\n",
            "using rfind: 30\n"
          ]
        }
      ]
    },
    {
      "cell_type": "code",
      "source": [
        "s=\"Learning python is very Easy, python is favourite,Python\"\n",
        "print(\"using index(:)\",s.index(\"python\"))\n",
        "\n",
        "s=\"Learning python is very Easy, python is favourite,Python\"\n",
        "print(\"using rindex(:)\",s.rindex(\"python\"))"
      ],
      "metadata": {
        "colab": {
          "base_uri": "https://localhost:8080/"
        },
        "id": "B_k-BrYM1Q0w",
        "outputId": "51da06e0-d757-49f9-c935-16abd5ed1efa"
      },
      "execution_count": null,
      "outputs": [
        {
          "output_type": "stream",
          "name": "stdout",
          "text": [
            "using index(:) 9\n",
            "using rindex(:) 30\n"
          ]
        }
      ]
    },
    {
      "cell_type": "code",
      "source": [
        "s=\"Hello python Learner!\"\n",
        "print(\"Replace 'python' with 'World'\")\n",
        "print(s.replace('python','World'))"
      ],
      "metadata": {
        "colab": {
          "base_uri": "https://localhost:8080/"
        },
        "id": "tG2fLYuS1_VF",
        "outputId": "ea485b43-fe0c-4adf-ceb4-39678e548936"
      },
      "execution_count": null,
      "outputs": [
        {
          "output_type": "stream",
          "name": "stdout",
          "text": [
            "Replace 'python' with 'World'\n",
            "Hello World Learner!\n"
          ]
        }
      ]
    },
    {
      "cell_type": "code",
      "source": [
        "s=\"a b c d e f\"\n",
        "print(s.replace(\" \",\"\"))"
      ],
      "metadata": {
        "colab": {
          "base_uri": "https://localhost:8080/"
        },
        "id": "ruC8dxmA2mrm",
        "outputId": "3d871101-5293-4b6a-b24c-bcc7fc307c68"
      },
      "execution_count": null,
      "outputs": [
        {
          "output_type": "stream",
          "name": "stdout",
          "text": [
            "abcdef\n"
          ]
        }
      ]
    },
    {
      "cell_type": "code",
      "source": [
        "s1=\"Hello python Learner!\"\n",
        "print(s1.split())\n",
        "\n",
        "s2=\"python is a, powerfull lang\"\n",
        "print(s2.split(\",\"))\n",
        "\n",
        "s3=\"2025-06-21\"\n",
        "print(s3.split(\"-\"))"
      ],
      "metadata": {
        "colab": {
          "base_uri": "https://localhost:8080/"
        },
        "id": "qgoS3DTh3EFz",
        "outputId": "f1102280-ccb0-48b4-e7ed-35f13e505142"
      },
      "execution_count": null,
      "outputs": [
        {
          "output_type": "stream",
          "name": "stdout",
          "text": [
            "['Hello', 'python', 'Learner!']\n",
            "['python is a', ' powerfull lang']\n",
            "['2025', '06', '21']\n"
          ]
        }
      ]
    },
    {
      "cell_type": "code",
      "source": [
        "s=\"abcdefghijk\"\n",
        "print(s[7:3:-1])\n",
        "print(s[::-1])\n",
        "print(s[-1:3:-1])\n",
        "#print(s[-1:-10:0])\n",
        "\n",
        "print(s[7:3:-2])\n",
        "print(s[-1:0:-1])"
      ],
      "metadata": {
        "colab": {
          "base_uri": "https://localhost:8080/"
        },
        "id": "nt79MM495Epi",
        "outputId": "3f2e935f-28a0-46e7-cf02-c95091d667e3"
      },
      "execution_count": null,
      "outputs": [
        {
          "output_type": "stream",
          "name": "stdout",
          "text": [
            "hgfe\n",
            "kjihgfedcba\n",
            "kjihgfe\n",
            "hf\n",
            "kjihgfedcb\n"
          ]
        }
      ]
    },
    {
      "cell_type": "code",
      "source": [
        "#Slicing\n",
        "s=\"abcdefghijklmn\"\n",
        "print(s[1:5])\n",
        "print(s[:7])\n",
        "print(s[1:])\n",
        "print(s[1:5:1])\n",
        "print(s[1:15:2])\n",
        "print(s[1:15:3])"
      ],
      "metadata": {
        "colab": {
          "base_uri": "https://localhost:8080/"
        },
        "id": "YUOUyGZ89hv9",
        "outputId": "7dbbb334-d767-481a-e5ee-89865ee81205"
      },
      "execution_count": null,
      "outputs": [
        {
          "output_type": "stream",
          "name": "stdout",
          "text": [
            "bcde\n",
            "abcdefg\n",
            "bcdefghijklmn\n",
            "bcde\n",
            "bdfhjln\n",
            "behkn\n"
          ]
        }
      ]
    },
    {
      "cell_type": "code",
      "source": [
        "#join\n",
        "word=['Python','is','fun']\n",
        "result=\" \".join(word)\n",
        "print(result)\n",
        "\n",
        "word=['Python','is','fun']\n",
        "result=\",\".join(word)\n",
        "print(result)"
      ],
      "metadata": {
        "colab": {
          "base_uri": "https://localhost:8080/"
        },
        "id": "TaZmbDjR-ITg",
        "outputId": "83be7343-5b9b-495b-80cb-03c670962548"
      },
      "execution_count": null,
      "outputs": [
        {
          "output_type": "stream",
          "name": "stdout",
          "text": [
            "Python is fun\n",
            "Python,is,fun\n"
          ]
        }
      ]
    }
  ]
}